{
 "cells": [
  {
   "cell_type": "markdown",
   "metadata": {},
   "source": [
    "### Accessing online feature services through arcpy\n",
    "#### A sample Notebook\n",
    "\n",
    "Written for CSU's NR427 - Programming for GIS II\n",
    "Elizabeth Tulanowski\n",
    "\n",
    "This Notebook will look at two methods for accessing online services:\n",
    "1. Feature Sets\n",
    "2. Make Feature Layer\n",
    "\n",
    "The user must retrieve a valid web service URL to pass into these methods.\n",
    "URLs may be retrieved for an ArcGIS Online layer's Item Details page, or from just about any ArcGIS hub site, or use any other REST service URL you know of."
   ]
  },
  {
   "cell_type": "code",
   "execution_count": 7,
   "metadata": {},
   "outputs": [
    {
     "name": "stdout",
     "output_type": "stream",
     "text": [
      "URL to use: https://services1.arcgis.com/KNdRU5cN6ENqCTjk/arcgis/rest/services/ElkPoints_inbuffer/FeatureServer/0\n",
      "\n"
     ]
    }
   ],
   "source": [
    "import arcpy\n",
    "#allow data to overwrite\n",
    "arcpy.env.overwriteOutput = True\n",
    "\n",
    "#Set variables:\n",
    "\n",
    "# Declare the ArcGIS Online Feature Service URL\n",
    "# URL for elk data\n",
    "data_url=\"https://services1.arcgis.com/KNdRU5cN6ENqCTjk/arcgis/rest/services/ElkPoints_inbuffer/FeatureServer/0\"\n",
    "\n",
    "# Another URL for Fort Collins hydro data\n",
    "#data_url = \"https://services1.arcgis.com/dLpFH5mwVvxSN4OE/arcgis/rest/services/Hydrology/FeatureServer/0\"\n",
    "#Query/formatting info for the end of the URL:   /query?where=OBJECTID>0&outFields=*&f=json\"\n",
    "\n",
    "print (f\"URL to use: {data_url}\\n\")\n",
    "\n",
    "# Location to save the data locally\n",
    "arcpy.env.workspace = r\"---fill this in with a path---\"\n",
    "data_path = r\"testdata\""
   ]
  },
  {
   "cell_type": "markdown",
   "metadata": {},
   "source": [
    "### Method 1: Using Feature Sets\n",
    "\n",
    "More info on feature sets:\n",
    "https://pro.arcgis.com/en/pro-app/latest/arcpy/classes/featureset.htm"
   ]
  },
  {
   "cell_type": "code",
   "execution_count": 8,
   "metadata": {},
   "outputs": [
    {
     "name": "stdout",
     "output_type": "stream",
     "text": [
      "Loading the feature service from AGOL into the feature set...........\n",
      "loaded into feature set\n",
      "771\n",
      "L0ElkPoints_inbuffer\n",
      "FeatureRecordSetLayer\n",
      "Geometry type: Point\n"
     ]
    }
   ],
   "source": [
    "#Create the feature set\n",
    "TheData = arcpy.FeatureSet()\n",
    "\n",
    "# #load the data into the feature set\n",
    "print(\"Loading the feature service from AGOL into the feature set...........\")\n",
    "TheData.load(data_url)\n",
    "print (\"loaded into feature set\")\n",
    "\n",
    "#Optionally you can save the feature set data locally to a feature class\n",
    "#TheFeatureset.save(data_path)\n",
    "\n",
    "#Doing things with the feature set:\n",
    "print (arcpy.management.GetCount(TheData))\n",
    "\n",
    "#Describe\n",
    "dsc = arcpy.Describe(TheData)\n",
    "print (dsc.name)\n",
    "print (dsc.datatype)\n",
    "if hasattr(dsc, \"shapeType\"):\n",
    "    print (\"Geometry type: \"+dsc.shapeType)\n",
    "\n",
    "    \n",
    "# Use your imagination here - plug this layer into any tool or workflow"
   ]
  },
  {
   "cell_type": "markdown",
   "metadata": {},
   "source": [
    "### Method # 2 - Using Make Feature Layer\n",
    "\n",
    "From:\n",
    "https://pro.arcgis.com/en/pro-app/latest/arcpy/geoprocessing_and_python/data-sources-in-python.htm\n",
    "'''"
   ]
  },
  {
   "cell_type": "code",
   "execution_count": 10,
   "metadata": {},
   "outputs": [
    {
     "name": "stdout",
     "output_type": "stream",
     "text": [
      "Making feature layer from web service........\n",
      "Loaded the features from https://services1.arcgis.com/dLpFH5mwVvxSN4OE/arcgis/rest/services/Hydrology/FeatureServer/0\n",
      "Number of features in the layer:\n",
      "193\n",
      "outlayer was properly loaded, use it in any geoprocessing tool now\n",
      "0\n",
      "FeatureLayer\n",
      "Geometry type: Polyline\n"
     ]
    }
   ],
   "source": [
    "data_url = \"https://services1.arcgis.com/dLpFH5mwVvxSN4OE/arcgis/rest/services/Hydrology/FeatureServer/0\"\n",
    "\n",
    "print (\"Making feature layer from web service........\")\n",
    "outlayer = \"outlayer\"\n",
    "layer = arcpy.management.MakeFeatureLayer(data_url, outlayer)\n",
    "print (f\"Loaded the features from {data_url}\")\n",
    "\n",
    "# Use the data from the service in any tool or process:\n",
    "print (\"Number of features in the layer:\")\n",
    "print (arcpy.management.GetCount(outlayer))\n",
    "\n",
    "#Did it get made?\n",
    "if arcpy.Exists(outlayer):\n",
    "    print (f\"{outlayer} was properly loaded, use it in any geoprocessing tool now\")\n",
    "else:\n",
    "    print (\"Something went wrong, it didn't load. Go figure it out.\")\n",
    "\n",
    "#Describe\n",
    "dsc = arcpy.Describe(outlayer)\n",
    "print (dsc.name)\n",
    "print (dsc.datatype)\n",
    "if hasattr(dsc, \"shapeType\"):\n",
    "    print (\"Geometry type: \"+dsc.shapeType)"
   ]
  },
  {
   "cell_type": "markdown",
   "metadata": {},
   "source": [
    "### Get the name of the feature layer from the URL, since it doesn't show up right in Describe\n"
   ]
  },
  {
   "cell_type": "code",
   "execution_count": 11,
   "metadata": {},
   "outputs": [
    {
     "name": "stdout",
     "output_type": "stream",
     "text": [
      "Hydrology\n"
     ]
    }
   ],
   "source": [
    "urlpieces = data_url.split(\"/\")\n",
    "layername = urlpieces[-3]\n",
    "print (layername)"
   ]
  },
  {
   "cell_type": "code",
   "execution_count": null,
   "metadata": {},
   "outputs": [],
   "source": []
  }
 ],
 "metadata": {
  "kernelspec": {
   "display_name": "ArcGISPro",
   "language": "Python",
   "name": "python3"
  },
  "language_info": {
   "file_extension": ".py",
   "name": "python",
   "version": "3"
  }
 },
 "nbformat": 4,
 "nbformat_minor": 2
}
